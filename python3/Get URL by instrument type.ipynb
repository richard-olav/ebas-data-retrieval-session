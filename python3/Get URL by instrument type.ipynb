{
 "cells": [
  {
   "cell_type": "markdown",
   "metadata": {},
   "source": [
    "# List URLs for the OPeNDAP protocol for a specific instrument"
   ]
  },
  {
   "cell_type": "markdown",
   "metadata": {},
   "source": [
    "**You can inspect the element by pasting the URL in the browser, if you want to stream the data, you must change the file extension .dds -> .dods or simply run the code snippet below**"
   ]
  },
  {
   "cell_type": "code",
   "execution_count": 5,
   "metadata": {},
   "outputs": [
    {
     "name": "stdout",
     "output_type": "stream",
     "text": [
      "http://dev-ebas-pydap.nilu.no/NO0042G.online_crds.IMG.air.carbon_dioxide.1d.NO01L_picarro1_G2401.NO01L_picarro.2.dds                                                                                                                                        \n",
      "\n",
      "http://dev-ebas-pydap.nilu.no/NO0042G.online_crds.IMG.air.methane.1h.NO01L_picarro_G2401_temp_2017_NRT.NO01L_picarro.1.5.dds                                                                                                                                \n",
      "\n",
      "http://dev-ebas-pydap.nilu.no/NO0042G.online_crds.IMG.air.carbon_dioxide.1h.NO01L_picarro_G2401_temp_2017_NRT.NO01L_picarro.1.5.dds                                                                                                                         \n",
      "\n",
      "http://dev-ebas-pydap.nilu.no/NO0042G.online_crds.IMG.air.carbon_monoxide.1h.NO01L_picarro_G2401_temp_2017_NRT.NO01L_picarro.1.5.dds                                                                                                                        \n",
      "\n",
      "http://dev-ebas-pydap.nilu.no/NO0042G.online_crds.IMG.air.water_vapor.1h.NO01L_picarro_G2401_temp_2017_NRT.NO01L_picarro.1.5.dds                                                                                                                            \n",
      "\n",
      "http://dev-ebas-pydap.nilu.no/NO0042G.online_crds.IMG.air.carbon_dioxide.1h.NO01L_picarro1_G2401.NO01L_picarro.2.dds                                                                                                                                        \n",
      "\n",
      "http://dev-ebas-pydap.nilu.no/NO0042G.online_crds.IMG.air.carbon_dioxide.1h.NO01L_picarro1_G2401.NO01L_picarro..dds                                                                                                                                         \n",
      "\n",
      "http://dev-ebas-pydap.nilu.no/NO0042G.online_crds.IMG.instrument.sample_count.1h.NO01L_picarro_G2401_temp_2017_NRT.NO01L_picarro.1.5.dds                                                                                                                    \n",
      "\n",
      "http://dev-ebas-pydap.nilu.no/NO0042G.online_crds.IMG.air.carbon_monoxide.1h.NO01L_picarro1_G2401.NO01L_picarro_2014..dds                                                                                                                                   \n",
      "\n",
      "http://dev-ebas-pydap.nilu.no/NO0042G.online_crds.IMG.air.methane.1h.NO01L_picarro1_G2401.NO01L_picarro.2.dds                                                                                                                                               \n",
      "\n",
      "http://dev-ebas-pydap.nilu.no/NO0042G.online_crds.IMG.air.carbon_dioxide.1h.NO01L_picarro2_G2401.NO01L_picarro.2.dds                                                                                                                                        \n",
      "\n",
      "http://dev-ebas-pydap.nilu.no/NO0042G.online_crds.IMG.air.methane.1h.NO01L_picarro2_G2401.NO01L_picarro.2.dds                                                                                                                                               \n",
      "\n",
      "http://dev-ebas-pydap.nilu.no/NO0042G.online_crds.IMG.air.carbon_monoxide.1h.NO01L_picarro2_G2401.NO01L_picarro.2.dds                                                                                                                                       \n",
      "\n",
      "http://dev-ebas-pydap.nilu.no/NO0042G.online_crds.IMG.air.methane.1d.NO01L_picarro1_G2401.NO01L_picarro.2.dds                                                                                                                                               \n",
      "\n",
      "http://dev-ebas-pydap.nilu.no/NO0042G.online_crds.IMG.air.methane.1h.NO01L_picarro4_G2401_NRT.NO01L_picarro.1.5.dds                                                                                                                                         \n",
      "\n",
      "http://dev-ebas-pydap.nilu.no/NO0042G.online_crds.IMG.air.carbon_dioxide.1h.NO01L_picarro4_G2401_NRT.NO01L_picarro.1.5.dds                                                                                                                                  \n",
      "\n",
      "http://dev-ebas-pydap.nilu.no/NO0042G.online_crds.IMG.air.carbon_monoxide.1h.NO01L_picarro4_G2401_NRT.NO01L_picarro.1.5.dds                                                                                                                                 \n",
      "\n",
      "http://dev-ebas-pydap.nilu.no/NO0042G.online_crds.IMG.air.water_vapor.1h.NO01L_picarro4_G2401_NRT.NO01L_picarro.1.5.dds                                                                                                                                     \n",
      "\n",
      "http://dev-ebas-pydap.nilu.no/NO0042G.online_crds.IMG.instrument.sample_count.1h.NO01L_picarro4_G2401_NRT.NO01L_picarro.1.5.dds                                                                                                                             \n",
      "\n",
      "http://dev-ebas-pydap.nilu.no/NO0042G.online_crds.IMG.air.carbon_monoxide.1d.NO01L_picarro1_G2401.NO01L_picarro..dds                                                                                                                                        \n",
      "\n"
     ]
    }
   ],
   "source": [
    "instrument = 'online_crds'\n",
    "\n",
    "with open('../all_urls_zeppelin.txt','r') as f:\n",
    "    for line in f:\n",
    "        if instrument in line:\n",
    "            print(line)"
   ]
  },
  {
   "cell_type": "markdown",
   "metadata": {},
   "source": [
    "**You can replace .dds with dods, running the code snippet below**"
   ]
  },
  {
   "cell_type": "code",
   "execution_count": 7,
   "metadata": {},
   "outputs": [
    {
     "name": "stdout",
     "output_type": "stream",
     "text": [
      "http://dev-ebas-pydap.nilu.no/NO0042G.online_crds.IMG.air.carbon_dioxide.1d.NO01L_picarro1_G2401.NO01L_picarro.2.dods                                                                                                                                        \n",
      "\n",
      "http://dev-ebas-pydap.nilu.no/NO0042G.online_crds.IMG.air.methane.1h.NO01L_picarro_G2401_temp_2017_NRT.NO01L_picarro.1.5.dods                                                                                                                                \n",
      "\n",
      "http://dev-ebas-pydap.nilu.no/NO0042G.online_crds.IMG.air.carbon_dioxide.1h.NO01L_picarro_G2401_temp_2017_NRT.NO01L_picarro.1.5.dods                                                                                                                         \n",
      "\n",
      "http://dev-ebas-pydap.nilu.no/NO0042G.online_crds.IMG.air.carbon_monoxide.1h.NO01L_picarro_G2401_temp_2017_NRT.NO01L_picarro.1.5.dods                                                                                                                        \n",
      "\n",
      "http://dev-ebas-pydap.nilu.no/NO0042G.online_crds.IMG.air.water_vapor.1h.NO01L_picarro_G2401_temp_2017_NRT.NO01L_picarro.1.5.dods                                                                                                                            \n",
      "\n",
      "http://dev-ebas-pydap.nilu.no/NO0042G.online_crds.IMG.air.carbon_dioxide.1h.NO01L_picarro1_G2401.NO01L_picarro.2.dods                                                                                                                                        \n",
      "\n",
      "http://dev-ebas-pydap.nilu.no/NO0042G.online_crds.IMG.air.carbon_dioxide.1h.NO01L_picarro1_G2401.NO01L_picarro..dods                                                                                                                                         \n",
      "\n",
      "http://dev-ebas-pydap.nilu.no/NO0042G.online_crds.IMG.instrument.sample_count.1h.NO01L_picarro_G2401_temp_2017_NRT.NO01L_picarro.1.5.dods                                                                                                                    \n",
      "\n",
      "http://dev-ebas-pydap.nilu.no/NO0042G.online_crds.IMG.air.carbon_monoxide.1h.NO01L_picarro1_G2401.NO01L_picarro_2014..dods                                                                                                                                   \n",
      "\n",
      "http://dev-ebas-pydap.nilu.no/NO0042G.online_crds.IMG.air.methane.1h.NO01L_picarro1_G2401.NO01L_picarro.2.dods                                                                                                                                               \n",
      "\n",
      "http://dev-ebas-pydap.nilu.no/NO0042G.online_crds.IMG.air.carbon_dioxide.1h.NO01L_picarro2_G2401.NO01L_picarro.2.dods                                                                                                                                        \n",
      "\n",
      "http://dev-ebas-pydap.nilu.no/NO0042G.online_crds.IMG.air.methane.1h.NO01L_picarro2_G2401.NO01L_picarro.2.dods                                                                                                                                               \n",
      "\n",
      "http://dev-ebas-pydap.nilu.no/NO0042G.online_crds.IMG.air.carbon_monoxide.1h.NO01L_picarro2_G2401.NO01L_picarro.2.dods                                                                                                                                       \n",
      "\n",
      "http://dev-ebas-pydap.nilu.no/NO0042G.online_crds.IMG.air.methane.1d.NO01L_picarro1_G2401.NO01L_picarro.2.dods                                                                                                                                               \n",
      "\n",
      "http://dev-ebas-pydap.nilu.no/NO0042G.online_crds.IMG.air.methane.1h.NO01L_picarro4_G2401_NRT.NO01L_picarro.1.5.dods                                                                                                                                         \n",
      "\n",
      "http://dev-ebas-pydap.nilu.no/NO0042G.online_crds.IMG.air.carbon_dioxide.1h.NO01L_picarro4_G2401_NRT.NO01L_picarro.1.5.dods                                                                                                                                  \n",
      "\n",
      "http://dev-ebas-pydap.nilu.no/NO0042G.online_crds.IMG.air.carbon_monoxide.1h.NO01L_picarro4_G2401_NRT.NO01L_picarro.1.5.dods                                                                                                                                 \n",
      "\n",
      "http://dev-ebas-pydap.nilu.no/NO0042G.online_crds.IMG.air.water_vapor.1h.NO01L_picarro4_G2401_NRT.NO01L_picarro.1.5.dods                                                                                                                                     \n",
      "\n",
      "http://dev-ebas-pydap.nilu.no/NO0042G.online_crds.IMG.instrument.sample_count.1h.NO01L_picarro4_G2401_NRT.NO01L_picarro.1.5.dods                                                                                                                             \n",
      "\n",
      "http://dev-ebas-pydap.nilu.no/NO0042G.online_crds.IMG.air.carbon_monoxide.1d.NO01L_picarro1_G2401.NO01L_picarro..dods                                                                                                                                        \n",
      "\n"
     ]
    }
   ],
   "source": [
    "\n",
    "with open('../all_urls_zeppelin.txt','r') as f:\n",
    "    for line in f:\n",
    "        if instrument in line:\n",
    "            print(line.replace('.dds','.dods'))"
   ]
  },
  {
   "cell_type": "code",
   "execution_count": null,
   "metadata": {
    "collapsed": true
   },
   "outputs": [],
   "source": []
  }
 ],
 "metadata": {
  "kernelspec": {
   "display_name": "Python 3",
   "language": "python",
   "name": "python3"
  },
  "language_info": {
   "codemirror_mode": {
    "name": "ipython",
    "version": 3
   },
   "file_extension": ".py",
   "mimetype": "text/x-python",
   "name": "python",
   "nbconvert_exporter": "python",
   "pygments_lexer": "ipython3",
   "version": "3.6.2"
  }
 },
 "nbformat": 4,
 "nbformat_minor": 1
}
